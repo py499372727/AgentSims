{
  "nbformat": 4,
  "nbformat_minor": 0,
  "metadata": {
    "colab": {
      "provenance": [],
      "authorship_tag": "ABX9TyNKYMlt/Npj/IjwmfkZMzRH",
      "include_colab_link": true
    },
    "kernelspec": {
      "name": "python3",
      "display_name": "Python 3"
    },
    "language_info": {
      "name": "python"
    }
  },
  "cells": [
    {
      "cell_type": "markdown",
      "metadata": {
        "id": "view-in-github",
        "colab_type": "text"
      },
      "source": [
        "<a href=\"https://colab.research.google.com/github/soheilpaper/AgentSims/blob/main/Google-colab/Agentsims4colab.ipynb\" target=\"_parent\"><img src=\"https://colab.research.google.com/assets/colab-badge.svg\" alt=\"Open In Colab\"/></a>"
      ]
    },
    {
      "cell_type": "markdown",
      "source": [
        "# This is for testing [Agentsims](https://github.com/py499372727/AgentSims)\n",
        " is in Google colab environment"
      ],
      "metadata": {
        "id": "sF6qesMSCjjS"
      }
    },
    {
      "cell_type": "markdown",
      "source": [
        "## By the help of AI we install it here:\n",
        "![enter image description here][1]\n",
        "\n",
        "Link of request is available here:\n",
        "\n",
        "https://www.phind.com/agent?cache=clluk1wb00001l608xr8cv86w\n",
        "\n",
        "  [1]: https://i.stack.imgur.com/vKKiZ.jpg"
      ],
      "metadata": {
        "id": "EhpXJ63mC9a9"
      }
    },
    {
      "cell_type": "code",
      "execution_count": null,
      "metadata": {
        "id": "lP_MRsDNCYpb",
        "colab": {
          "base_uri": "https://localhost:8080/"
        },
        "outputId": "3dd3d6e3-009e-427f-8f7b-8e1af7c4b4a5"
      },
      "outputs": [
        {
          "output_type": "stream",
          "name": "stdout",
          "text": [
            "Cloning into 'AgentSims'...\n",
            "remote: Enumerating objects: 163, done.\u001b[K\n",
            "remote: Counting objects: 100% (163/163), done.\u001b[K\n",
            "remote: Compressing objects: 100% (127/127), done.\u001b[K\n",
            "remote: Total 163 (delta 37), reused 152 (delta 29), pack-reused 0\u001b[K\n",
            "Receiving objects: 100% (163/163), 33.23 MiB | 14.25 MiB/s, done.\n",
            "Resolving deltas: 100% (37/37), done.\n"
          ]
        }
      ],
      "source": [
        "!git clone https://github.com/py499372727/AgentSims.git"
      ]
    },
    {
      "cell_type": "code",
      "source": [
        "%cd AgentSims"
      ],
      "metadata": {
        "colab": {
          "base_uri": "https://localhost:8080/"
        },
        "id": "Zq_1ZK_4DjHB",
        "outputId": "889b1cfb-55fb-49e4-b4b8-3fff4a9e1b03"
      },
      "execution_count": null,
      "outputs": [
        {
          "output_type": "stream",
          "name": "stdout",
          "text": [
            "/content/AgentSims/AgentSims\n"
          ]
        }
      ]
    },
    {
      "cell_type": "markdown",
      "source": [
        "So I combined some of the main github install instruction too, here . Thr github install instructions is avaible [here][1].\n",
        "\n",
        "![enter image description here][2]\n",
        "\n",
        "\n",
        "  [1]: https://github.com/py499372727/AgentSims\n",
        "  [2]: https://i.stack.imgur.com/DtFBH.jpg"
      ],
      "metadata": {
        "id": "rge4w4tfFHlq"
      }
    },
    {
      "cell_type": "code",
      "source": [
        "!pip install tornado\n",
        "!pip install mysql-connector-python\n",
        "!pip install websockets\n",
        "!pip install openai_async"
      ],
      "metadata": {
        "colab": {
          "base_uri": "https://localhost:8080/"
        },
        "id": "KovcD2GMEmSG",
        "outputId": "efff5f99-3864-411a-cea2-d041aa09f0de"
      },
      "execution_count": 8,
      "outputs": [
        {
          "output_type": "stream",
          "name": "stdout",
          "text": [
            "Requirement already satisfied: tornado in /usr/local/lib/python3.10/dist-packages (6.3.2)\n",
            "Requirement already satisfied: mysql-connector-python in /usr/local/lib/python3.10/dist-packages (8.0.31)\n",
            "Requirement already satisfied: protobuf<=3.20.1,>=3.11.0 in /usr/local/lib/python3.10/dist-packages (from mysql-connector-python) (3.20.1)\n",
            "Requirement already satisfied: websockets in /usr/local/lib/python3.10/dist-packages (11.0.3)\n",
            "Requirement already satisfied: openai_async in /usr/local/lib/python3.10/dist-packages (0.0.3)\n",
            "Requirement already satisfied: httpx in /usr/local/lib/python3.10/dist-packages (from openai_async) (0.24.1)\n",
            "Requirement already satisfied: pytest in /usr/local/lib/python3.10/dist-packages (from openai_async) (7.4.0)\n",
            "Requirement already satisfied: certifi in /usr/local/lib/python3.10/dist-packages (from httpx->openai_async) (2023.7.22)\n",
            "Requirement already satisfied: httpcore<0.18.0,>=0.15.0 in /usr/local/lib/python3.10/dist-packages (from httpx->openai_async) (0.17.3)\n",
            "Requirement already satisfied: idna in /usr/local/lib/python3.10/dist-packages (from httpx->openai_async) (3.4)\n",
            "Requirement already satisfied: sniffio in /usr/local/lib/python3.10/dist-packages (from httpx->openai_async) (1.3.0)\n",
            "Requirement already satisfied: iniconfig in /usr/local/lib/python3.10/dist-packages (from pytest->openai_async) (2.0.0)\n",
            "Requirement already satisfied: packaging in /usr/local/lib/python3.10/dist-packages (from pytest->openai_async) (23.1)\n",
            "Requirement already satisfied: pluggy<2.0,>=0.12 in /usr/local/lib/python3.10/dist-packages (from pytest->openai_async) (1.2.0)\n",
            "Requirement already satisfied: exceptiongroup>=1.0.0rc8 in /usr/local/lib/python3.10/dist-packages (from pytest->openai_async) (1.1.3)\n",
            "Requirement already satisfied: tomli>=1.0.0 in /usr/local/lib/python3.10/dist-packages (from pytest->openai_async) (2.0.1)\n",
            "Requirement already satisfied: h11<0.15,>=0.13 in /usr/local/lib/python3.10/dist-packages (from httpcore<0.18.0,>=0.15.0->httpx->openai_async) (0.14.0)\n",
            "Requirement already satisfied: anyio<5.0,>=3.0 in /usr/local/lib/python3.10/dist-packages (from httpcore<0.18.0,>=0.15.0->httpx->openai_async) (3.7.1)\n"
          ]
        }
      ]
    },
    {
      "cell_type": "code",
      "source": [
        "!pip install -r requirements.txt"
      ],
      "metadata": {
        "colab": {
          "base_uri": "https://localhost:8080/"
        },
        "id": "-oEmP57YD8RH",
        "outputId": "7ee4ec86-f050-486f-aacb-cac10127cee5"
      },
      "execution_count": 9,
      "outputs": [
        {
          "output_type": "stream",
          "name": "stdout",
          "text": [
            "Requirement already satisfied: tornado==6.3.2 in /usr/local/lib/python3.10/dist-packages (from -r requirements.txt (line 1)) (6.3.2)\n",
            "Requirement already satisfied: mysql-connector-python==8.0.31 in /usr/local/lib/python3.10/dist-packages (from -r requirements.txt (line 2)) (8.0.31)\n",
            "Requirement already satisfied: openai_async==0.0.3 in /usr/local/lib/python3.10/dist-packages (from -r requirements.txt (line 3)) (0.0.3)\n",
            "Requirement already satisfied: websockets==11.0.3 in /usr/local/lib/python3.10/dist-packages (from -r requirements.txt (line 4)) (11.0.3)\n",
            "Requirement already satisfied: protobuf<=3.20.1,>=3.11.0 in /usr/local/lib/python3.10/dist-packages (from mysql-connector-python==8.0.31->-r requirements.txt (line 2)) (3.20.1)\n",
            "Requirement already satisfied: httpx in /usr/local/lib/python3.10/dist-packages (from openai_async==0.0.3->-r requirements.txt (line 3)) (0.24.1)\n",
            "Requirement already satisfied: pytest in /usr/local/lib/python3.10/dist-packages (from openai_async==0.0.3->-r requirements.txt (line 3)) (7.4.0)\n",
            "Requirement already satisfied: certifi in /usr/local/lib/python3.10/dist-packages (from httpx->openai_async==0.0.3->-r requirements.txt (line 3)) (2023.7.22)\n",
            "Requirement already satisfied: httpcore<0.18.0,>=0.15.0 in /usr/local/lib/python3.10/dist-packages (from httpx->openai_async==0.0.3->-r requirements.txt (line 3)) (0.17.3)\n",
            "Requirement already satisfied: idna in /usr/local/lib/python3.10/dist-packages (from httpx->openai_async==0.0.3->-r requirements.txt (line 3)) (3.4)\n",
            "Requirement already satisfied: sniffio in /usr/local/lib/python3.10/dist-packages (from httpx->openai_async==0.0.3->-r requirements.txt (line 3)) (1.3.0)\n",
            "Requirement already satisfied: iniconfig in /usr/local/lib/python3.10/dist-packages (from pytest->openai_async==0.0.3->-r requirements.txt (line 3)) (2.0.0)\n",
            "Requirement already satisfied: packaging in /usr/local/lib/python3.10/dist-packages (from pytest->openai_async==0.0.3->-r requirements.txt (line 3)) (23.1)\n",
            "Requirement already satisfied: pluggy<2.0,>=0.12 in /usr/local/lib/python3.10/dist-packages (from pytest->openai_async==0.0.3->-r requirements.txt (line 3)) (1.2.0)\n",
            "Requirement already satisfied: exceptiongroup>=1.0.0rc8 in /usr/local/lib/python3.10/dist-packages (from pytest->openai_async==0.0.3->-r requirements.txt (line 3)) (1.1.3)\n",
            "Requirement already satisfied: tomli>=1.0.0 in /usr/local/lib/python3.10/dist-packages (from pytest->openai_async==0.0.3->-r requirements.txt (line 3)) (2.0.1)\n",
            "Requirement already satisfied: h11<0.15,>=0.13 in /usr/local/lib/python3.10/dist-packages (from httpcore<0.18.0,>=0.15.0->httpx->openai_async==0.0.3->-r requirements.txt (line 3)) (0.14.0)\n",
            "Requirement already satisfied: anyio<5.0,>=3.0 in /usr/local/lib/python3.10/dist-packages (from httpcore<0.18.0,>=0.15.0->httpx->openai_async==0.0.3->-r requirements.txt (line 3)) (3.7.1)\n"
          ]
        }
      ]
    },
    {
      "cell_type": "code",
      "source": [
        "!chmod +x restart.sh\n",
        "#!python server.py"
      ],
      "metadata": {
        "id": "nQP38oKzGIvB"
      },
      "execution_count": 14,
      "outputs": []
    },
    {
      "cell_type": "code",
      "source": [
        "!apt-get install mysql-server -y && \\\n",
        "service mysql start && \\\n",
        "mysql -e \"ALTER USER 'root'@'localhost' IDENTIFIED WITH mysql_native_password BY '';\" && \\\n",
        "service mysql restart && \\\n",
        "mysql -e \"CREATE DATABASE llm_account DEFAULT CHARACTER SET utf8mb4 COLLATE utf8mb4_unicode_ci;\" && \\\n",
        "mysql -e \"CREATE DATABASE llm_game DEFAULT CHARACTER SET utf8mb4 COLLATE utf8mb4_unicode_ci;\" && \\\n",
        "mysql -e \"CREATE DATABASE llm_game0001 DEFAULT CHARACTER SET utf8mb4 COLLATE utf8mb4_unicode_ci;\" && \\\n",
        "mysql -e \"CREATE DATABASE llm_game0002 DEFAULT CHARACTER SET utf8mb4 COLLATE utf8mb4_unicode_ci;\""
      ],
      "metadata": {
        "colab": {
          "base_uri": "https://localhost:8080/"
        },
        "id": "1QtQifwfG6Lv",
        "outputId": "fc991693-1a3a-49ba-de1a-6523e9782421"
      },
      "execution_count": 13,
      "outputs": [
        {
          "output_type": "stream",
          "name": "stdout",
          "text": [
            "Reading package lists... Done\n",
            "Building dependency tree... Done\n",
            "Reading state information... Done\n",
            "The following additional packages will be installed:\n",
            "  libcgi-fast-perl libcgi-pm-perl libclone-perl libencode-locale-perl\n",
            "  libfcgi-bin libfcgi-perl libfcgi0ldbl libhtml-parser-perl\n",
            "  libhtml-tagset-perl libhtml-template-perl libhttp-date-perl\n",
            "  libhttp-message-perl libio-html-perl liblwp-mediatypes-perl libmecab2\n",
            "  libprotobuf-lite23 liburi-perl mecab-ipadic mecab-ipadic-utf8 mecab-utils\n",
            "  mysql-client-8.0 mysql-client-core-8.0 mysql-server-8.0\n",
            "  mysql-server-core-8.0\n",
            "Suggested packages:\n",
            "  libdata-dump-perl libipc-sharedcache-perl libbusiness-isbn-perl libwww-perl\n",
            "  mailx tinyca\n",
            "The following NEW packages will be installed:\n",
            "  libcgi-fast-perl libcgi-pm-perl libclone-perl libencode-locale-perl\n",
            "  libfcgi-bin libfcgi-perl libfcgi0ldbl libhtml-parser-perl\n",
            "  libhtml-tagset-perl libhtml-template-perl libhttp-date-perl\n",
            "  libhttp-message-perl libio-html-perl liblwp-mediatypes-perl libmecab2\n",
            "  libprotobuf-lite23 liburi-perl mecab-ipadic mecab-ipadic-utf8 mecab-utils\n",
            "  mysql-client-8.0 mysql-client-core-8.0 mysql-server mysql-server-8.0\n",
            "  mysql-server-core-8.0\n",
            "0 upgraded, 25 newly installed, 0 to remove and 16 not upgraded.\n",
            "Need to get 29.5 MB of archives.\n",
            "After this operation, 243 MB of additional disk space will be used.\n",
            "Get:1 http://archive.ubuntu.com/ubuntu jammy-updates/main amd64 mysql-client-core-8.0 amd64 8.0.34-0ubuntu0.22.04.1 [2,754 kB]\n",
            "Get:2 http://archive.ubuntu.com/ubuntu jammy-updates/main amd64 mysql-client-8.0 amd64 8.0.34-0ubuntu0.22.04.1 [22.7 kB]\n",
            "Get:3 http://archive.ubuntu.com/ubuntu jammy/main amd64 libmecab2 amd64 0.996-14build9 [199 kB]\n",
            "Get:4 http://archive.ubuntu.com/ubuntu jammy-updates/main amd64 libprotobuf-lite23 amd64 3.12.4-1ubuntu7.22.04.1 [209 kB]\n",
            "Get:5 http://archive.ubuntu.com/ubuntu jammy-updates/main amd64 mysql-server-core-8.0 amd64 8.0.34-0ubuntu0.22.04.1 [17.5 MB]\n",
            "Get:6 http://archive.ubuntu.com/ubuntu jammy-updates/main amd64 mysql-server-8.0 amd64 8.0.34-0ubuntu0.22.04.1 [1,437 kB]\n",
            "Get:7 http://archive.ubuntu.com/ubuntu jammy/main amd64 libhtml-tagset-perl all 3.20-4 [12.5 kB]\n",
            "Get:8 http://archive.ubuntu.com/ubuntu jammy/main amd64 liburi-perl all 5.10-1 [78.8 kB]\n",
            "Get:9 http://archive.ubuntu.com/ubuntu jammy/main amd64 libhtml-parser-perl amd64 3.76-1build2 [88.4 kB]\n",
            "Get:10 http://archive.ubuntu.com/ubuntu jammy/main amd64 libcgi-pm-perl all 4.54-1 [188 kB]\n",
            "Get:11 http://archive.ubuntu.com/ubuntu jammy/main amd64 libfcgi0ldbl amd64 2.4.2-2build2 [28.0 kB]\n",
            "Get:12 http://archive.ubuntu.com/ubuntu jammy/main amd64 libfcgi-perl amd64 0.82+ds-1build1 [22.8 kB]\n",
            "Get:13 http://archive.ubuntu.com/ubuntu jammy/main amd64 libcgi-fast-perl all 1:2.15-1 [10.5 kB]\n",
            "Get:14 http://archive.ubuntu.com/ubuntu jammy/main amd64 libclone-perl amd64 0.45-1build3 [11.0 kB]\n",
            "Get:15 http://archive.ubuntu.com/ubuntu jammy/main amd64 libencode-locale-perl all 1.05-1.1 [11.8 kB]\n",
            "Get:16 http://archive.ubuntu.com/ubuntu jammy/main amd64 libfcgi-bin amd64 2.4.2-2build2 [11.2 kB]\n",
            "Get:17 http://archive.ubuntu.com/ubuntu jammy/main amd64 libhtml-template-perl all 2.97-1.1 [59.1 kB]\n",
            "Get:18 http://archive.ubuntu.com/ubuntu jammy/main amd64 libhttp-date-perl all 6.05-1 [9,920 B]\n",
            "Get:19 http://archive.ubuntu.com/ubuntu jammy/main amd64 libio-html-perl all 1.004-2 [15.4 kB]\n",
            "Get:20 http://archive.ubuntu.com/ubuntu jammy/main amd64 liblwp-mediatypes-perl all 6.04-1 [19.5 kB]\n",
            "Get:21 http://archive.ubuntu.com/ubuntu jammy/main amd64 libhttp-message-perl all 6.36-1 [76.8 kB]\n",
            "Get:22 http://archive.ubuntu.com/ubuntu jammy/main amd64 mecab-utils amd64 0.996-14build9 [4,850 B]\n",
            "Get:23 http://archive.ubuntu.com/ubuntu jammy/main amd64 mecab-ipadic all 2.7.0-20070801+main-3 [6,718 kB]\n",
            "Get:24 http://archive.ubuntu.com/ubuntu jammy/main amd64 mecab-ipadic-utf8 all 2.7.0-20070801+main-3 [4,384 B]\n",
            "Get:25 http://archive.ubuntu.com/ubuntu jammy-updates/main amd64 mysql-server all 8.0.34-0ubuntu0.22.04.1 [9,460 B]\n",
            "Fetched 29.5 MB in 1s (38.2 MB/s)\n",
            "Preconfiguring packages ...\n",
            "Selecting previously unselected package mysql-client-core-8.0.\n",
            "(Reading database ... 120831 files and directories currently installed.)\n",
            "Preparing to unpack .../00-mysql-client-core-8.0_8.0.34-0ubuntu0.22.04.1_amd64.deb ...\n",
            "Unpacking mysql-client-core-8.0 (8.0.34-0ubuntu0.22.04.1) ...\n",
            "Selecting previously unselected package mysql-client-8.0.\n",
            "Preparing to unpack .../01-mysql-client-8.0_8.0.34-0ubuntu0.22.04.1_amd64.deb ...\n",
            "Unpacking mysql-client-8.0 (8.0.34-0ubuntu0.22.04.1) ...\n",
            "Selecting previously unselected package libmecab2:amd64.\n",
            "Preparing to unpack .../02-libmecab2_0.996-14build9_amd64.deb ...\n",
            "Unpacking libmecab2:amd64 (0.996-14build9) ...\n",
            "Selecting previously unselected package libprotobuf-lite23:amd64.\n",
            "Preparing to unpack .../03-libprotobuf-lite23_3.12.4-1ubuntu7.22.04.1_amd64.deb ...\n",
            "Unpacking libprotobuf-lite23:amd64 (3.12.4-1ubuntu7.22.04.1) ...\n",
            "Selecting previously unselected package mysql-server-core-8.0.\n",
            "Preparing to unpack .../04-mysql-server-core-8.0_8.0.34-0ubuntu0.22.04.1_amd64.deb ...\n",
            "Unpacking mysql-server-core-8.0 (8.0.34-0ubuntu0.22.04.1) ...\n",
            "Selecting previously unselected package mysql-server-8.0.\n",
            "Preparing to unpack .../05-mysql-server-8.0_8.0.34-0ubuntu0.22.04.1_amd64.deb ...\n",
            "Unpacking mysql-server-8.0 (8.0.34-0ubuntu0.22.04.1) ...\n",
            "Selecting previously unselected package libhtml-tagset-perl.\n",
            "Preparing to unpack .../06-libhtml-tagset-perl_3.20-4_all.deb ...\n",
            "Unpacking libhtml-tagset-perl (3.20-4) ...\n",
            "Selecting previously unselected package liburi-perl.\n",
            "Preparing to unpack .../07-liburi-perl_5.10-1_all.deb ...\n",
            "Unpacking liburi-perl (5.10-1) ...\n",
            "Selecting previously unselected package libhtml-parser-perl:amd64.\n",
            "Preparing to unpack .../08-libhtml-parser-perl_3.76-1build2_amd64.deb ...\n",
            "Unpacking libhtml-parser-perl:amd64 (3.76-1build2) ...\n",
            "Selecting previously unselected package libcgi-pm-perl.\n",
            "Preparing to unpack .../09-libcgi-pm-perl_4.54-1_all.deb ...\n",
            "Unpacking libcgi-pm-perl (4.54-1) ...\n",
            "Selecting previously unselected package libfcgi0ldbl:amd64.\n",
            "Preparing to unpack .../10-libfcgi0ldbl_2.4.2-2build2_amd64.deb ...\n",
            "Unpacking libfcgi0ldbl:amd64 (2.4.2-2build2) ...\n",
            "Selecting previously unselected package libfcgi-perl:amd64.\n",
            "Preparing to unpack .../11-libfcgi-perl_0.82+ds-1build1_amd64.deb ...\n",
            "Unpacking libfcgi-perl:amd64 (0.82+ds-1build1) ...\n",
            "Selecting previously unselected package libcgi-fast-perl.\n",
            "Preparing to unpack .../12-libcgi-fast-perl_1%3a2.15-1_all.deb ...\n",
            "Unpacking libcgi-fast-perl (1:2.15-1) ...\n",
            "Selecting previously unselected package libclone-perl.\n",
            "Preparing to unpack .../13-libclone-perl_0.45-1build3_amd64.deb ...\n",
            "Unpacking libclone-perl (0.45-1build3) ...\n",
            "Selecting previously unselected package libencode-locale-perl.\n",
            "Preparing to unpack .../14-libencode-locale-perl_1.05-1.1_all.deb ...\n",
            "Unpacking libencode-locale-perl (1.05-1.1) ...\n",
            "Selecting previously unselected package libfcgi-bin.\n",
            "Preparing to unpack .../15-libfcgi-bin_2.4.2-2build2_amd64.deb ...\n",
            "Unpacking libfcgi-bin (2.4.2-2build2) ...\n",
            "Selecting previously unselected package libhtml-template-perl.\n",
            "Preparing to unpack .../16-libhtml-template-perl_2.97-1.1_all.deb ...\n",
            "Unpacking libhtml-template-perl (2.97-1.1) ...\n",
            "Selecting previously unselected package libhttp-date-perl.\n",
            "Preparing to unpack .../17-libhttp-date-perl_6.05-1_all.deb ...\n",
            "Unpacking libhttp-date-perl (6.05-1) ...\n",
            "Selecting previously unselected package libio-html-perl.\n",
            "Preparing to unpack .../18-libio-html-perl_1.004-2_all.deb ...\n",
            "Unpacking libio-html-perl (1.004-2) ...\n",
            "Selecting previously unselected package liblwp-mediatypes-perl.\n",
            "Preparing to unpack .../19-liblwp-mediatypes-perl_6.04-1_all.deb ...\n",
            "Unpacking liblwp-mediatypes-perl (6.04-1) ...\n",
            "Selecting previously unselected package libhttp-message-perl.\n",
            "Preparing to unpack .../20-libhttp-message-perl_6.36-1_all.deb ...\n",
            "Unpacking libhttp-message-perl (6.36-1) ...\n",
            "Selecting previously unselected package mecab-utils.\n",
            "Preparing to unpack .../21-mecab-utils_0.996-14build9_amd64.deb ...\n",
            "Unpacking mecab-utils (0.996-14build9) ...\n",
            "Selecting previously unselected package mecab-ipadic.\n",
            "Preparing to unpack .../22-mecab-ipadic_2.7.0-20070801+main-3_all.deb ...\n",
            "Unpacking mecab-ipadic (2.7.0-20070801+main-3) ...\n",
            "Selecting previously unselected package mecab-ipadic-utf8.\n",
            "Preparing to unpack .../23-mecab-ipadic-utf8_2.7.0-20070801+main-3_all.deb ...\n",
            "Unpacking mecab-ipadic-utf8 (2.7.0-20070801+main-3) ...\n",
            "Selecting previously unselected package mysql-server.\n",
            "Preparing to unpack .../24-mysql-server_8.0.34-0ubuntu0.22.04.1_all.deb ...\n",
            "Unpacking mysql-server (8.0.34-0ubuntu0.22.04.1) ...\n",
            "Setting up libhttp-date-perl (6.05-1) ...\n",
            "Setting up libmecab2:amd64 (0.996-14build9) ...\n",
            "Setting up mysql-client-core-8.0 (8.0.34-0ubuntu0.22.04.1) ...\n",
            "Setting up libfcgi0ldbl:amd64 (2.4.2-2build2) ...\n",
            "Setting up libclone-perl (0.45-1build3) ...\n",
            "Setting up libhtml-tagset-perl (3.20-4) ...\n",
            "Setting up liblwp-mediatypes-perl (6.04-1) ...\n",
            "Setting up libfcgi-bin (2.4.2-2build2) ...\n",
            "Setting up libencode-locale-perl (1.05-1.1) ...\n",
            "Setting up libprotobuf-lite23:amd64 (3.12.4-1ubuntu7.22.04.1) ...\n",
            "Setting up mecab-utils (0.996-14build9) ...\n",
            "Setting up libio-html-perl (1.004-2) ...\n",
            "Setting up mysql-server-core-8.0 (8.0.34-0ubuntu0.22.04.1) ...\n",
            "Setting up mysql-client-8.0 (8.0.34-0ubuntu0.22.04.1) ...\n",
            "Setting up libfcgi-perl:amd64 (0.82+ds-1build1) ...\n",
            "Setting up liburi-perl (5.10-1) ...\n",
            "Setting up libhttp-message-perl (6.36-1) ...\n",
            "Setting up mysql-server-8.0 (8.0.34-0ubuntu0.22.04.1) ...\n",
            "invoke-rc.d: could not determine current runlevel\n",
            "invoke-rc.d: policy-rc.d denied execution of stop.\n",
            "update-alternatives: using /etc/mysql/mysql.cnf to provide /etc/mysql/my.cnf (my.cnf) in auto mode\n",
            "Renaming removed key_buffer and myisam-recover options (if present)\n",
            "mysqld will log errors to /var/log/mysql/error.log\n",
            "mysqld is running as pid 4318\n",
            "Created symlink /etc/systemd/system/multi-user.target.wants/mysql.service → /lib/systemd/system/mysql.service.\n",
            "invoke-rc.d: could not determine current runlevel\n",
            "invoke-rc.d: policy-rc.d denied execution of start.\n",
            "Setting up mecab-ipadic (2.7.0-20070801+main-3) ...\n",
            "Compiling IPA dictionary for Mecab.  This takes long time...\n",
            "reading /usr/share/mecab/dic/ipadic/unk.def ... 40\n",
            "emitting double-array: 100% |###########################################| \n",
            "/usr/share/mecab/dic/ipadic/model.def is not found. skipped.\n",
            "reading /usr/share/mecab/dic/ipadic/Verb.csv ... 130750\n",
            "reading /usr/share/mecab/dic/ipadic/Others.csv ... 2\n",
            "reading /usr/share/mecab/dic/ipadic/Suffix.csv ... 1393\n",
            "reading /usr/share/mecab/dic/ipadic/Noun.adverbal.csv ... 795\n",
            "reading /usr/share/mecab/dic/ipadic/Adnominal.csv ... 135\n",
            "reading /usr/share/mecab/dic/ipadic/Adverb.csv ... 3032\n",
            "reading /usr/share/mecab/dic/ipadic/Noun.verbal.csv ... 12146\n",
            "reading /usr/share/mecab/dic/ipadic/Postp.csv ... 146\n",
            "reading /usr/share/mecab/dic/ipadic/Noun.demonst.csv ... 120\n",
            "reading /usr/share/mecab/dic/ipadic/Postp-col.csv ... 91\n",
            "reading /usr/share/mecab/dic/ipadic/Noun.nai.csv ... 42\n",
            "reading /usr/share/mecab/dic/ipadic/Noun.adjv.csv ... 3328\n",
            "reading /usr/share/mecab/dic/ipadic/Noun.place.csv ... 72999\n",
            "reading /usr/share/mecab/dic/ipadic/Noun.name.csv ... 34202\n",
            "reading /usr/share/mecab/dic/ipadic/Noun.org.csv ... 16668\n",
            "reading /usr/share/mecab/dic/ipadic/Filler.csv ... 19\n",
            "reading /usr/share/mecab/dic/ipadic/Interjection.csv ... 252\n",
            "reading /usr/share/mecab/dic/ipadic/Noun.number.csv ... 42\n",
            "reading /usr/share/mecab/dic/ipadic/Auxil.csv ... 199\n",
            "reading /usr/share/mecab/dic/ipadic/Noun.proper.csv ... 27328\n",
            "reading /usr/share/mecab/dic/ipadic/Noun.others.csv ... 151\n",
            "reading /usr/share/mecab/dic/ipadic/Symbol.csv ... 208\n",
            "reading /usr/share/mecab/dic/ipadic/Conjunction.csv ... 171\n",
            "reading /usr/share/mecab/dic/ipadic/Prefix.csv ... 221\n",
            "reading /usr/share/mecab/dic/ipadic/Adj.csv ... 27210\n",
            "reading /usr/share/mecab/dic/ipadic/Noun.csv ... 60477\n",
            "emitting double-array: 100% |###########################################| \n",
            "reading /usr/share/mecab/dic/ipadic/matrix.def ... 1316x1316\n",
            "emitting matrix      : 100% |###########################################| \n",
            "\n",
            "done!\n",
            "update-alternatives: using /var/lib/mecab/dic/ipadic to provide /var/lib/mecab/dic/debian (mecab-dictionary) in auto mode\n",
            "Setting up mecab-ipadic-utf8 (2.7.0-20070801+main-3) ...\n",
            "Compiling IPA dictionary for Mecab.  This takes long time...\n",
            "reading /usr/share/mecab/dic/ipadic/unk.def ... 40\n",
            "emitting double-array: 100% |###########################################| \n",
            "/usr/share/mecab/dic/ipadic/model.def is not found. skipped.\n",
            "reading /usr/share/mecab/dic/ipadic/Verb.csv ... 130750\n",
            "reading /usr/share/mecab/dic/ipadic/Others.csv ... 2\n",
            "reading /usr/share/mecab/dic/ipadic/Suffix.csv ... 1393\n",
            "reading /usr/share/mecab/dic/ipadic/Noun.adverbal.csv ... 795\n",
            "reading /usr/share/mecab/dic/ipadic/Adnominal.csv ... 135\n",
            "reading /usr/share/mecab/dic/ipadic/Adverb.csv ... 3032\n",
            "reading /usr/share/mecab/dic/ipadic/Noun.verbal.csv ... 12146\n",
            "reading /usr/share/mecab/dic/ipadic/Postp.csv ... 146\n",
            "reading /usr/share/mecab/dic/ipadic/Noun.demonst.csv ... 120\n",
            "reading /usr/share/mecab/dic/ipadic/Postp-col.csv ... 91\n",
            "reading /usr/share/mecab/dic/ipadic/Noun.nai.csv ... 42\n",
            "reading /usr/share/mecab/dic/ipadic/Noun.adjv.csv ... 3328\n",
            "reading /usr/share/mecab/dic/ipadic/Noun.place.csv ... 72999\n",
            "reading /usr/share/mecab/dic/ipadic/Noun.name.csv ... 34202\n",
            "reading /usr/share/mecab/dic/ipadic/Noun.org.csv ... 16668\n",
            "reading /usr/share/mecab/dic/ipadic/Filler.csv ... 19\n",
            "reading /usr/share/mecab/dic/ipadic/Interjection.csv ... 252\n",
            "reading /usr/share/mecab/dic/ipadic/Noun.number.csv ... 42\n",
            "reading /usr/share/mecab/dic/ipadic/Auxil.csv ... 199\n",
            "reading /usr/share/mecab/dic/ipadic/Noun.proper.csv ... 27328\n",
            "reading /usr/share/mecab/dic/ipadic/Noun.others.csv ... 151\n",
            "reading /usr/share/mecab/dic/ipadic/Symbol.csv ... 208\n",
            "reading /usr/share/mecab/dic/ipadic/Conjunction.csv ... 171\n",
            "reading /usr/share/mecab/dic/ipadic/Prefix.csv ... 221\n",
            "reading /usr/share/mecab/dic/ipadic/Adj.csv ... 27210\n",
            "reading /usr/share/mecab/dic/ipadic/Noun.csv ... 60477\n",
            "emitting double-array: 100% |###########################################| \n",
            "reading /usr/share/mecab/dic/ipadic/matrix.def ... 1316x1316\n",
            "emitting matrix      : 100% |###########################################| \n",
            "\n",
            "done!\n",
            "update-alternatives: using /var/lib/mecab/dic/ipadic-utf8 to provide /var/lib/mecab/dic/debian (mecab-dictionary) in auto mode\n",
            "Setting up libhtml-parser-perl:amd64 (3.76-1build2) ...\n",
            "Setting up mysql-server (8.0.34-0ubuntu0.22.04.1) ...\n",
            "Setting up libcgi-pm-perl (4.54-1) ...\n",
            "Setting up libhtml-template-perl (2.97-1.1) ...\n",
            "Setting up libcgi-fast-perl (1:2.15-1) ...\n",
            "Processing triggers for man-db (2.10.2-1) ...\n",
            "Processing triggers for libc-bin (2.35-0ubuntu3.1) ...\n",
            "/sbin/ldconfig.real: /usr/local/lib/libtbbmalloc_proxy.so.2 is not a symbolic link\n",
            "\n",
            "/sbin/ldconfig.real: /usr/local/lib/libtbbbind.so.3 is not a symbolic link\n",
            "\n",
            "/sbin/ldconfig.real: /usr/local/lib/libtbbmalloc.so.2 is not a symbolic link\n",
            "\n",
            "/sbin/ldconfig.real: /usr/local/lib/libtbb.so.12 is not a symbolic link\n",
            "\n",
            "/sbin/ldconfig.real: /usr/local/lib/libtbbbind_2_5.so.3 is not a symbolic link\n",
            "\n",
            "/sbin/ldconfig.real: /usr/local/lib/libtbbbind_2_0.so.3 is not a symbolic link\n",
            "\n",
            " * Starting MySQL database server mysqld\n",
            "su: warning: cannot change directory to /nonexistent: No such file or directory\n",
            "   ...done.\n",
            " * Stopping MySQL database server mysqld\n",
            "   ...done.\n",
            " * Starting MySQL database server mysqld\n",
            "su: warning: cannot change directory to /nonexistent: No such file or directory\n",
            "   ...done.\n"
          ]
        }
      ]
    },
    {
      "cell_type": "code",
      "source": [
        "!bash ./restart.sh"
      ],
      "metadata": {
        "colab": {
          "base_uri": "https://localhost:8080/"
        },
        "id": "V7Ml2Wx4FRuc",
        "outputId": "4059be49-66c8-43fb-e359-acc9ca014e59"
      },
      "execution_count": null,
      "outputs": [
        {
          "metadata": {
            "tags": null
          },
          "name": "stdout",
          "output_type": "stream",
          "text": [
            "process id: 2176\n",
            "process python server killed\n",
            "process python server restarted\n",
            "----------Server Started----------\n"
          ]
        }
      ]
    }
  ]
}
{
  "cells": [
    {
      "cell_type": "markdown",
      "metadata": {
        "id": "view-in-github",
        "colab_type": "text"
      },
      "source": [
        "<a href=\"https://colab.research.google.com/github/soheilpaper/AgentSims/blob/main/Google-colab/Agentsims4colab.ipynb\" target=\"_parent\"><img src=\"https://colab.research.google.com/assets/colab-badge.svg\" alt=\"Open In Colab\"/></a>"
      ]
    },
    {
      "cell_type": "markdown",
      "metadata": {
        "id": "sF6qesMSCjjS"
      },
      "source": [
        "# This is for testing [Agentsims](https://github.com/py499372727/AgentSims)\n",
        " is in Google colab environment"
      ]
    },
    {
      "cell_type": "markdown",
      "metadata": {
        "id": "EhpXJ63mC9a9"
      },
      "source": [
        "## By the help of AI we install it here:\n",
        "![enter image description here][1]\n",
        "\n",
        "Link of request is available here:\n",
        "\n",
        "https://www.phind.com/agent?cache=clluk1wb00001l608xr8cv86w\n",
        "\n",
        "  [1]: https://i.stack.imgur.com/vKKiZ.jpg"
      ]
    },
    {
      "cell_type": "code",
      "execution_count": 2,
      "metadata": {
        "colab": {
          "base_uri": "https://localhost:8080/"
        },
        "id": "lP_MRsDNCYpb",
        "outputId": "5f2c191c-b293-4df2-eba7-35c09d95d272"
      },
      "outputs": [
        {
          "output_type": "stream",
          "name": "stdout",
          "text": [
            "fatal: destination path 'AgentSims' already exists and is not an empty directory.\n"
          ]
        }
      ],
      "source": [
        "!git clone https://github.com/py499372727/AgentSims.git"
      ]
    },
    {
      "cell_type": "code",
      "execution_count": 3,
      "metadata": {
        "colab": {
          "base_uri": "https://localhost:8080/"
        },
        "id": "Zq_1ZK_4DjHB",
        "outputId": "3ab751fa-45ab-4107-f9ad-fbe24a7f7c9f"
      },
      "outputs": [
        {
          "output_type": "stream",
          "name": "stdout",
          "text": [
            "/content/AgentSims\n"
          ]
        }
      ],
      "source": [
        "%cd AgentSims"
      ]
    },
    {
      "cell_type": "markdown",
      "metadata": {
        "id": "rge4w4tfFHlq"
      },
      "source": [
        "So I combined some of the main github install instruction too, here . Thr github install instructions is avaible [here][1].\n",
        "\n",
        "![enter image description here][2]\n",
        "\n",
        "\n",
        "  [1]: https://github.com/py499372727/AgentSims\n",
        "  [2]: https://i.stack.imgur.com/DtFBH.jpg"
      ]
    },
    {
      "cell_type": "code",
      "execution_count": 4,
      "metadata": {
        "colab": {
          "base_uri": "https://localhost:8080/"
        },
        "id": "KovcD2GMEmSG",
        "outputId": "66674180-681f-4c95-dfb6-67c64edbe263"
      },
      "outputs": [
        {
          "output_type": "stream",
          "name": "stdout",
          "text": [
            "Requirement already satisfied: tornado in /usr/local/lib/python3.10/dist-packages (6.3.2)\n",
            "Requirement already satisfied: mysql-connector-python in /usr/local/lib/python3.10/dist-packages (8.0.31)\n",
            "Requirement already satisfied: protobuf<=3.20.1,>=3.11.0 in /usr/local/lib/python3.10/dist-packages (from mysql-connector-python) (3.20.1)\n",
            "Requirement already satisfied: websockets in /usr/local/lib/python3.10/dist-packages (11.0.3)\n",
            "Requirement already satisfied: openai_async in /usr/local/lib/python3.10/dist-packages (0.0.3)\n",
            "Requirement already satisfied: httpx in /usr/local/lib/python3.10/dist-packages (from openai_async) (0.24.1)\n",
            "Requirement already satisfied: pytest in /usr/local/lib/python3.10/dist-packages (from openai_async) (7.4.0)\n",
            "Requirement already satisfied: certifi in /usr/local/lib/python3.10/dist-packages (from httpx->openai_async) (2023.7.22)\n",
            "Requirement already satisfied: httpcore<0.18.0,>=0.15.0 in /usr/local/lib/python3.10/dist-packages (from httpx->openai_async) (0.17.3)\n",
            "Requirement already satisfied: idna in /usr/local/lib/python3.10/dist-packages (from httpx->openai_async) (3.4)\n",
            "Requirement already satisfied: sniffio in /usr/local/lib/python3.10/dist-packages (from httpx->openai_async) (1.3.0)\n",
            "Requirement already satisfied: iniconfig in /usr/local/lib/python3.10/dist-packages (from pytest->openai_async) (2.0.0)\n",
            "Requirement already satisfied: packaging in /usr/local/lib/python3.10/dist-packages (from pytest->openai_async) (23.1)\n",
            "Requirement already satisfied: pluggy<2.0,>=0.12 in /usr/local/lib/python3.10/dist-packages (from pytest->openai_async) (1.2.0)\n",
            "Requirement already satisfied: exceptiongroup>=1.0.0rc8 in /usr/local/lib/python3.10/dist-packages (from pytest->openai_async) (1.1.3)\n",
            "Requirement already satisfied: tomli>=1.0.0 in /usr/local/lib/python3.10/dist-packages (from pytest->openai_async) (2.0.1)\n",
            "Requirement already satisfied: h11<0.15,>=0.13 in /usr/local/lib/python3.10/dist-packages (from httpcore<0.18.0,>=0.15.0->httpx->openai_async) (0.14.0)\n",
            "Requirement already satisfied: anyio<5.0,>=3.0 in /usr/local/lib/python3.10/dist-packages (from httpcore<0.18.0,>=0.15.0->httpx->openai_async) (3.7.1)\n"
          ]
        }
      ],
      "source": [
        "!pip install tornado\n",
        "!pip install mysql-connector-python\n",
        "!pip install websockets\n",
        "!pip install openai_async"
      ]
    },
    {
      "cell_type": "code",
      "execution_count": 5,
      "metadata": {
        "colab": {
          "base_uri": "https://localhost:8080/"
        },
        "id": "-oEmP57YD8RH",
        "outputId": "18369589-a53b-4cb8-8d51-188b08ae533c"
      },
      "outputs": [
        {
          "output_type": "stream",
          "name": "stdout",
          "text": [
            "Requirement already satisfied: tornado==6.3.2 in /usr/local/lib/python3.10/dist-packages (from -r requirements.txt (line 1)) (6.3.2)\n",
            "Requirement already satisfied: mysql-connector-python==8.0.31 in /usr/local/lib/python3.10/dist-packages (from -r requirements.txt (line 2)) (8.0.31)\n",
            "Requirement already satisfied: openai_async==0.0.3 in /usr/local/lib/python3.10/dist-packages (from -r requirements.txt (line 3)) (0.0.3)\n",
            "Requirement already satisfied: websockets==11.0.3 in /usr/local/lib/python3.10/dist-packages (from -r requirements.txt (line 4)) (11.0.3)\n",
            "Requirement already satisfied: protobuf<=3.20.1,>=3.11.0 in /usr/local/lib/python3.10/dist-packages (from mysql-connector-python==8.0.31->-r requirements.txt (line 2)) (3.20.1)\n",
            "Requirement already satisfied: httpx in /usr/local/lib/python3.10/dist-packages (from openai_async==0.0.3->-r requirements.txt (line 3)) (0.24.1)\n",
            "Requirement already satisfied: pytest in /usr/local/lib/python3.10/dist-packages (from openai_async==0.0.3->-r requirements.txt (line 3)) (7.4.0)\n",
            "Requirement already satisfied: certifi in /usr/local/lib/python3.10/dist-packages (from httpx->openai_async==0.0.3->-r requirements.txt (line 3)) (2023.7.22)\n",
            "Requirement already satisfied: httpcore<0.18.0,>=0.15.0 in /usr/local/lib/python3.10/dist-packages (from httpx->openai_async==0.0.3->-r requirements.txt (line 3)) (0.17.3)\n",
            "Requirement already satisfied: idna in /usr/local/lib/python3.10/dist-packages (from httpx->openai_async==0.0.3->-r requirements.txt (line 3)) (3.4)\n",
            "Requirement already satisfied: sniffio in /usr/local/lib/python3.10/dist-packages (from httpx->openai_async==0.0.3->-r requirements.txt (line 3)) (1.3.0)\n",
            "Requirement already satisfied: iniconfig in /usr/local/lib/python3.10/dist-packages (from pytest->openai_async==0.0.3->-r requirements.txt (line 3)) (2.0.0)\n",
            "Requirement already satisfied: packaging in /usr/local/lib/python3.10/dist-packages (from pytest->openai_async==0.0.3->-r requirements.txt (line 3)) (23.1)\n",
            "Requirement already satisfied: pluggy<2.0,>=0.12 in /usr/local/lib/python3.10/dist-packages (from pytest->openai_async==0.0.3->-r requirements.txt (line 3)) (1.2.0)\n",
            "Requirement already satisfied: exceptiongroup>=1.0.0rc8 in /usr/local/lib/python3.10/dist-packages (from pytest->openai_async==0.0.3->-r requirements.txt (line 3)) (1.1.3)\n",
            "Requirement already satisfied: tomli>=1.0.0 in /usr/local/lib/python3.10/dist-packages (from pytest->openai_async==0.0.3->-r requirements.txt (line 3)) (2.0.1)\n",
            "Requirement already satisfied: h11<0.15,>=0.13 in /usr/local/lib/python3.10/dist-packages (from httpcore<0.18.0,>=0.15.0->httpx->openai_async==0.0.3->-r requirements.txt (line 3)) (0.14.0)\n",
            "Requirement already satisfied: anyio<5.0,>=3.0 in /usr/local/lib/python3.10/dist-packages (from httpcore<0.18.0,>=0.15.0->httpx->openai_async==0.0.3->-r requirements.txt (line 3)) (3.7.1)\n"
          ]
        }
      ],
      "source": [
        "!pip install -r requirements.txt"
      ]
    },
    {
      "cell_type": "code",
      "execution_count": 6,
      "metadata": {
        "id": "nQP38oKzGIvB"
      },
      "outputs": [],
      "source": [
        "!chmod +x restart.sh\n",
        "#!python server.py"
      ]
    },
    {
      "cell_type": "code",
      "execution_count": 7,
      "metadata": {
        "colab": {
          "base_uri": "https://localhost:8080/"
        },
        "id": "1QtQifwfG6Lv",
        "outputId": "5c50a967-e2a3-4b22-9a1f-4aee9a580365"
      },
      "outputs": [
        {
          "output_type": "stream",
          "name": "stdout",
          "text": [
            "Reading package lists... Done\n",
            "Building dependency tree... Done\n",
            "Reading state information... Done\n",
            "mysql-server is already the newest version (8.0.34-0ubuntu0.22.04.1).\n",
            "0 upgraded, 0 newly installed, 0 to remove and 16 not upgraded.\n",
            " * Starting MySQL database server mysqld\n",
            "   ...done.\n",
            " * Stopping MySQL database server mysqld\n",
            "   ...done.\n",
            " * Starting MySQL database server mysqld\n",
            "su: warning: cannot change directory to /nonexistent: No such file or directory\n",
            "   ...done.\n",
            "ERROR 1007 (HY000) at line 1: Can't create database 'llm_account'; database exists\n"
          ]
        }
      ],
      "source": [
        "!apt-get install mysql-server -y && \\\n",
        "service mysql start && \\\n",
        "mysql -e \"ALTER USER 'root'@'localhost' IDENTIFIED WITH mysql_native_password BY '';\" && \\\n",
        "service mysql restart && \\\n",
        "mysql -e \"CREATE DATABASE llm_account DEFAULT CHARACTER SET utf8mb4 COLLATE utf8mb4_unicode_ci;\" && \\\n",
        "mysql -e \"CREATE DATABASE llm_game DEFAULT CHARACTER SET utf8mb4 COLLATE utf8mb4_unicode_ci;\" && \\\n",
        "mysql -e \"CREATE DATABASE llm_game0001 DEFAULT CHARACTER SET utf8mb4 COLLATE utf8mb4_unicode_ci;\" && \\\n",
        "mysql -e \"CREATE DATABASE llm_game0002 DEFAULT CHARACTER SET utf8mb4 COLLATE utf8mb4_unicode_ci;\""
      ]
    },
    {
      "cell_type": "code",
      "source": [
        "!mkdir ./snapshot\n",
        "!mkdir ./logs"
      ],
      "metadata": {
        "colab": {
          "base_uri": "https://localhost:8080/"
        },
        "id": "Axq6X1LUmpCm",
        "outputId": "89ef12b9-c674-4488-9f3f-71263630a84f"
      },
      "execution_count": 8,
      "outputs": [
        {
          "output_type": "stream",
          "name": "stdout",
          "text": [
            "mkdir: cannot create directory ‘./snapshot’: File exists\n",
            "mkdir: cannot create directory ‘./logs’: File exists\n"
          ]
        }
      ]
    },
    {
      "cell_type": "code",
      "source": [
        "import json\n",
        "\n",
        "# Define the content of the JSON file\n",
        "content = {\n",
        "    \"gpt-3.5\": \"xxx\"\n",
        "}\n",
        "\n",
        "# Convert the content to JSON format\n",
        "json_content = json.dumps(content)\n",
        "\n",
        "# Write the JSON content to the file\n",
        "with open('/content/AgentSims/config/api_key.json', 'w') as file:\n",
        "    file.write(json_content)"
      ],
      "metadata": {
        "id": "s4kkvU-MnZoF"
      },
      "execution_count": 9,
      "outputs": []
    },
    {
      "cell_type": "code",
      "execution_count": 10,
      "metadata": {
        "id": "V7Ml2Wx4FRuc"
      },
      "outputs": [],
      "source": [
        "!nohup bash /content/AgentSims/restart.sh > restart.log 2>&1 &"
      ]
    },
    {
      "cell_type": "code",
      "execution_count": 11,
      "metadata": {
        "colab": {
          "base_uri": "https://localhost:8080/"
        },
        "id": "XlMv-b1NYFRX",
        "outputId": "c8acc787-5859-489b-9b26-45526f3ecd69"
      },
      "outputs": [
        {
          "output_type": "stream",
          "name": "stdout",
          "text": [
            "Reading package lists... Done\n",
            "Building dependency tree... Done\n",
            "Reading state information... Done\n",
            "net-tools is already the newest version (1.60+git20181103.0eebece-1ubuntu5).\n",
            "0 upgraded, 0 newly installed, 0 to remove and 16 not upgraded.\n"
          ]
        }
      ],
      "source": [
        "!apt-get install net-tools"
      ]
    },
    {
      "cell_type": "code",
      "execution_count": 12,
      "metadata": {
        "colab": {
          "base_uri": "https://localhost:8080/"
        },
        "id": "FOFFUNEbYL8F",
        "outputId": "6a069d5e-0c1a-416b-ad54-4bc85b3fe96c"
      },
      "outputs": [
        {
          "output_type": "stream",
          "name": "stdout",
          "text": [
            "Active Internet connections (only servers)\n",
            "Proto Recv-Q Send-Q Local Address           Foreign Address         State       PID/Program name    \n",
            "tcp        0      0 127.0.0.1:45985         0.0.0.0:*               LISTEN      2701/python3        \n",
            "tcp        0      0 127.0.0.1:46525         0.0.0.0:*               LISTEN      2666/python3        \n",
            "tcp        0      0 127.0.0.1:46807         0.0.0.0:*               LISTEN      2701/python3        \n",
            "tcp        0      0 172.28.0.12:9000        0.0.0.0:*               LISTEN      80/python3          \n",
            "tcp        0      0 0.0.0.0:8000            0.0.0.0:*               LISTEN      3327/python3        \n",
            "tcp        0      0 127.0.0.1:33060         0.0.0.0:*               LISTEN      3246/mysqld         \n",
            "tcp        0      0 127.0.0.11:33489        0.0.0.0:*               LISTEN      -                   \n",
            "tcp        0      0 127.0.0.1:3453          0.0.0.0:*               LISTEN      63/python3          \n",
            "tcp        0      0 127.0.0.1:3306          0.0.0.0:*               LISTEN      3246/mysqld         \n",
            "tcp        0      0 172.28.0.12:6000        0.0.0.0:*               LISTEN      35/kernel_manager_p \n",
            "tcp6       0      0 :::8080                 :::*                    LISTEN      7/node              \n",
            "udp        0      0 127.0.0.11:34255        0.0.0.0:*                           -                   \n"
          ]
        }
      ],
      "source": [
        "!netstat -tulpn #| grep 8000"
      ]
    },
    {
      "cell_type": "code",
      "execution_count": 13,
      "metadata": {
        "id": "GOYmGoMgXLh3"
      },
      "outputs": [],
      "source": [
        "#!bash ./restart.sh"
      ]
    },
    {
      "cell_type": "code",
      "execution_count": 22,
      "metadata": {
        "id": "A6LcjWlCPnC8"
      },
      "outputs": [],
      "source": [
        "#!/bin/bash\n",
        "\n",
        "# Stop any existing instances of the processes\n",
        "!pkill -f tick\n",
        "!pkill -f mayor\n",
        "\n",
        "# Start the first process in the background\n",
        "!nohup python -u tick.py > tick.log 2>&1 &\n",
        "\n",
        "# Start the second process in the background\n",
        "!nohup python -u mayor.py > mayor.log 2>&1 &"
      ]
    },
    {
      "cell_type": "code",
      "source": [
        "#!nohup bash /content/AgentSims/restart.sh > restart.log 2>&1 &"
      ],
      "metadata": {
        "id": "2VabjxTXpjjo"
      },
      "execution_count": 15,
      "outputs": []
    },
    {
      "cell_type": "code",
      "execution_count": 23,
      "metadata": {
        "colab": {
          "base_uri": "https://localhost:8080/"
        },
        "id": "_SbWPU0MPcIB",
        "outputId": "a3a4d3d6-763f-4957-c59c-e3a339c03483"
      },
      "outputs": [
        {
          "output_type": "stream",
          "name": "stdout",
          "text": [
            "<html><title>404: Not Found</title><body>404: Not Found</body></html>"
          ]
        }
      ],
      "source": [
        "!curl http://0.0.0.0:8000/client/index.html"
      ]
    },
    {
      "cell_type": "code",
      "source": [
        "!curl http://0.0.0.0:8000"
      ],
      "metadata": {
        "colab": {
          "base_uri": "https://localhost:8080/"
        },
        "id": "3NPYzmhdpSUl",
        "outputId": "07a3a365-7703-4fed-e56c-0a5a91afb864"
      },
      "execution_count": 24,
      "outputs": [
        {
          "output_type": "stream",
          "name": "stdout",
          "text": [
            "<html><title>404: Not Found</title><body>404: Not Found</body></html>"
          ]
        }
      ]
    },
    {
      "cell_type": "code",
      "execution_count": 18,
      "metadata": {
        "colab": {
          "base_uri": "https://localhost:8080/"
        },
        "id": "Ruja8Iq3PfEn",
        "outputId": "56e158bc-cc4f-491c-8362-b480fc0ed4ed"
      },
      "outputs": [
        {
          "output_type": "stream",
          "name": "stdout",
          "text": [
            "\u001b[K\u001b[?25h/tools/node/bin/lt -> /tools/node/lib/node_modules/localtunnel/bin/lt.js\n",
            "+ localtunnel@2.0.2\n",
            "updated 1 package in 0.856s\n",
            "\n",
            "\u001b[33m\u001b[39m\n",
            "\u001b[33m   ╭───────────────────────────────────────────────────────────────╮\u001b[39m\n",
            "   \u001b[33m│\u001b[39m                                                               \u001b[33m│\u001b[39m\n",
            "   \u001b[33m│\u001b[39m      New \u001b[31mmajor\u001b[39m version of npm available! \u001b[31m6.14.8\u001b[39m → \u001b[32m9.8.1\u001b[39m       \u001b[33m│\u001b[39m\n",
            "   \u001b[33m│\u001b[39m   \u001b[33mChangelog:\u001b[39m \u001b[36mhttps://github.com/npm/cli/releases/tag/v9.8.1\u001b[39m   \u001b[33m│\u001b[39m\n",
            "   \u001b[33m│\u001b[39m               Run \u001b[32mnpm install -g npm\u001b[39m to update!               \u001b[33m│\u001b[39m\n",
            "   \u001b[33m│\u001b[39m                                                               \u001b[33m│\u001b[39m\n",
            "\u001b[33m   ╰───────────────────────────────────────────────────────────────╯\u001b[39m\n",
            "\u001b[33m\u001b[39m\n",
            "34.90.65.190\n"
          ]
        }
      ],
      "source": [
        "!npm install -g localtunnel\n",
        "!curl ipv4.icanhazip.com\n",
        "#!lt --port 8000 --lcoal-host https://0.0.0.0:8000/client/index.html #/index.html\n",
        "!nohup lt --port 8000 --lcoal-host https://0.0.0.0:8000/client/index.html > index-on-internet.log 2>&1 &"
      ]
    },
    {
      "cell_type": "code",
      "execution_count": 19,
      "metadata": {
        "id": "LkOCHonYSs6H"
      },
      "outputs": [],
      "source": [
        "#!lt --port 8000 #--host http://0.0.0.0"
      ]
    }
  ],
  "metadata": {
    "colab": {
      "provenance": [],
      "authorship_tag": "ABX9TyPOdAbBQGi86VdoL0nuajlH",
      "include_colab_link": true
    },
    "kernelspec": {
      "display_name": "Python 3",
      "name": "python3"
    },
    "language_info": {
      "name": "python"
    }
  },
  "nbformat": 4,
  "nbformat_minor": 0
}